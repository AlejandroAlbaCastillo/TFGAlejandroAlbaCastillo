{
 "cells": [
  {
   "cell_type": "markdown",
   "id": "9ce37973-c9c6-46a7-86d7-2174c7f7a9bd",
   "metadata": {},
   "source": [
    "# Usuarios"
   ]
  },
  {
   "attachments": {},
   "cell_type": "markdown",
   "id": "fe737b4c-7c33-416b-879c-ba25fc19fb9a",
   "metadata": {},
   "source": [
    "En esta pestaña se mostraran todas los usuarios que existen actualmente"
   ]
  },
  {
   "cell_type": "markdown",
   "id": "5d6e4391-8487-494e-bb4a-0f5c689c5bd8",
   "metadata": {},
   "source": [
    "## Insertar un Usuario\n",
    "Para insertar un Usuario tendremos que rellenar todos los campos posibles en el formulario de la parte superior.\n",
    "\n",
    "![Formulario Usuario](Images/Usuario/formularioUsuario.png)\n",
    "\n",
    "Rellenamos los campos.\n",
    "\n",
    "![Formulario Usuario Rellenado](Images/Usuario/formularioUsuarioRelleno.png)\n",
    "\n",
    "Y si los campos estan bien escritos al darle al botón insertar se nos habrá insertado en la base de datos el nuevo Usuario.\n",
    "\n",
    "![Usuario insertado](Images/Usuario/usuarioAnadido.png)\n",
    "\n",
    "Podemos ver de que nos sale un mensaje retroalimentario en la parte inferior de la ventana."
   ]
  },
  {
   "attachments": {},
   "cell_type": "markdown",
   "id": "6b249f8f-a3c6-412a-9492-9bb07c012451",
   "metadata": {},
   "source": [
    "## Actualizar Usuario\n",
    "Para actualizar el Usuario tendremos que cargar el Usuario en el formulario de inserción.\n",
    "\n",
    "Para ello se puede cargar de dos maneras:\n",
    "\n",
    "- Seleccionando una Usuario de la tabla y dandole al botón cargar.\n",
    "\n",
    "![Cargar Usuario v1](Images/Usuario/usuarioCargadov1.png)   \n",
    "\n",
    "- O dandole doble click al elemento de la tabla.\n",
    "\n",
    "Ahora solo tendremos que modificar los cambios que veamos convenientes y darle al boton actualizar.\n",
    "\n",
    "Por ejemplo cambiaremos el nombre de Rafa a Luz y el usuario de rafaaajaen a luzajaen.\n",
    "\n",
    "Al darle al botón de actualizar, tendremos que confirmar la acción.\n",
    "\n",
    "![Confirmar Usuario v1](Images/Usuario/confirmarUsuario.png) \n",
    "\n",
    "Al confirmar se habrá actualizado\n",
    "\n",
    "![Usuario actualizada](Images/Usuario/usuarioActualizado.png) \n"
   ]
  },
  {
   "cell_type": "markdown",
   "id": "5150e856-aace-429f-a39e-ff9c49f9c442",
   "metadata": {},
   "source": [
    "## Eliminar Usuario\n",
    "\n",
    "Para eliminar un Usuario se hará de 2 formas:\n",
    "\n",
    "- Seleccionando al Usuario de la tabla y dandole al botón de eliminar.\n",
    "\n",
    "  ![Borrar Usuario v1](Images/Usuario/borrarUsuariov1.png)\n",
    "\n",
    "- Dándole click derecho a la Usuario que se quiera borrar\n",
    "\n",
    "   ![Borrar Usuario v2](Images/Usuario/borrarUsuariov2.png)\n",
    "\n",
    "\n",
    "Al darle al darle a Eliminar, tendremos que confirmar la acción.\n",
    "\n",
    "![Confirmar Usuario v1](Images/Usuario/confirmarUsuario.png) \n",
    "\n",
    "Al confirmar se habrá eliminado, lo sabremos por que se habrá quitado de la tabla y también aparecerá un mensaje abajo.\n",
    "\n",
    "![Usuario eliminado](Images/Usuario/usuarioEliminado.png) \n"
   ]
  },
  {
   "cell_type": "markdown",
   "id": "eb46190a-1109-410f-844b-f0a8330a0727",
   "metadata": {},
   "source": [
    "## Buscar un Usuario\n",
    "Para buscar un Usuario tendremos que dirigirnos a la parte superior derecha de la tabla:\n",
    " ![Buscar Usuario](Images/Usuario/buscarUsuario.png)\n",
    "\n",
    " Para buscar por el valor que se quiera, se escoge un valor a buscar en el menu desplegable y se escribe lo que se uquiere buscar\n",
    " \n",
    " ![Buscar Usuario](Images/Usuario/buscarUsuario2.png)\n",
    "\n",
    "  ![Buscar Usuario](Images/Usuario/buscarUsuario3.png)\n",
    "\n",
    "  Y al darle al botón de la lupa, si se ha encontrado algo se aplicara el filtro\n",
    "\n",
    "  ![Buscar Usuario](Images/Usuario/buscarUsuario4.png)\n",
    "\n",
    "  Si intentamos buscar una cosa que no existe en la base de datos no saldrá el siguiente mensaje.\n",
    "\n",
    "  ![Buscar Usuario](Images/Usuario/buscarUsuario5.png)"
   ]
  },
  {
   "cell_type": "markdown",
   "id": "573a317d",
   "metadata": {},
   "source": []
  }
 ],
 "metadata": {
  "kernelspec": {
   "display_name": "Python 3 (ipykernel)",
   "language": "python",
   "name": "python3"
  },
  "language_info": {
   "codemirror_mode": {
    "name": "ipython",
    "version": 3
   },
   "file_extension": ".py",
   "mimetype": "text/x-python",
   "name": "python",
   "nbconvert_exporter": "python",
   "pygments_lexer": "ipython3",
   "version": "3.10.7"
  }
 },
 "nbformat": 4,
 "nbformat_minor": 5
}
