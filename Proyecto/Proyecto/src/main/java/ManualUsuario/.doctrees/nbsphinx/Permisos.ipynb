{
 "cells": [
  {
   "cell_type": "markdown",
   "id": "9ce37973-c9c6-46a7-86d7-2174c7f7a9bd",
   "metadata": {},
   "source": [
    "# Permisos"
   ]
  },
  {
   "attachments": {},
   "cell_type": "markdown",
   "id": "fe737b4c-7c33-416b-879c-ba25fc19fb9a",
   "metadata": {},
   "source": [
    "En esta pestaña se mostraran todas los permisos\n",
    " que existen actualmente"
   ]
  },
  {
   "cell_type": "markdown",
   "id": "5d6e4391-8487-494e-bb4a-0f5c689c5bd8",
   "metadata": {},
   "source": [
    "## Insertar un Permiso\n",
    "Para insertar un Permiso tendremos que rellenar todos los campos posibles en el formulario de la parte superior.\n",
    "\n",
    "![Formulario Permiso](Images/Permiso/formularioPermiso.png)\n",
    "\n",
    "Rellenamos los campos.\n",
    "\n",
    "![Formulario Permiso Rellenado](Images/Permiso/formularioPermisoRelleno.png)\n",
    "\n",
    "Y si los campos estan bien escritos al darle al botón insertar se nos habrá insertado en la base de datos el nuevo Permiso.\n",
    "\n",
    "![Permiso insertado](Images/Permiso/permisoAnadido.png)\n",
    "\n",
    "Podemos ver de que nos sale un mensaje retroalimentario en la parte inferior de la ventana."
   ]
  },
  {
   "attachments": {},
   "cell_type": "markdown",
   "id": "6b249f8f-a3c6-412a-9492-9bb07c012451",
   "metadata": {},
   "source": [
    "## Actualizar Permiso\n",
    "Para actualizar el Permiso tendremos que cargar el Permiso en el formulario de inserción.\n",
    "\n",
    "Para ello se puede cargar de dos maneras:\n",
    "\n",
    "- Seleccionando una Permiso de la tabla y dandole al botón cargar.\n",
    "\n",
    "![Cargar Permiso v1](Images/Permiso/permisoCargadov1.png)   \n",
    "\n",
    "- O dandole doble click al elemento de la tabla.\n",
    "\n",
    "Ahora solo tendremos que modificar los cambios que veamos convenientes y darle al boton actualizar.\n",
    "\n",
    "Por ejemplo cambiaremos los permisos para que no tenga ningun permiso.\n",
    "\n",
    "Al darle al botón de actualizar, tendremos que confirmar la acción.\n",
    "\n",
    "![Confirmar Permiso v1](Images/Permiso/confirmarPermiso.png) \n",
    "\n",
    "Al confirmar se habrá actualizado\n",
    "\n",
    "![Permiso actualizada](Images/Permiso/permisoActualizado.png) \n"
   ]
  },
  {
   "cell_type": "markdown",
   "id": "5150e856-aace-429f-a39e-ff9c49f9c442",
   "metadata": {},
   "source": [
    "## Eliminar Permiso\n",
    "\n",
    "Para eliminar un Permiso se hará de 2 formas:\n",
    "\n",
    "- Seleccionando al Permiso de la tabla y dandole al botón de eliminar.\n",
    "\n",
    "  ![Borrar Permiso v1](Images/Permiso/borrarPermisov1.png)\n",
    "\n",
    "- Dándole click derecho a la Permiso que se quiera borrar\n",
    "\n",
    "   ![Borrar Permiso v2](Images/Permiso/borrarPermisov2.png)\n",
    "\n",
    "\n",
    "Al darle al darle a Eliminar, tendremos que confirmar la acción.\n",
    "\n",
    "![Confirmar Permiso v1](Images/Permiso/confirmarPermiso.png) \n",
    "\n",
    "Al confirmar se habrá eliminado, lo sabremos por que se habrá quitado de la tabla y también aparecerá un mensaje abajo.\n",
    "\n",
    "![Permiso eliminado](Images/Permiso/permisoEliminado.png) \n"
   ]
  },
  {
   "cell_type": "markdown",
   "id": "573a317d",
   "metadata": {},
   "source": [
    "## Buscar un Permiso\n",
    "Para buscar un Permiso tendremos que dirigirnos a la parte superior derecha de la tabla:\n",
    " ![Buscar Permiso](Images/Permiso/buscarPermiso.png)\n",
    "\n",
    " Para buscar por el valor que se quiera, se escoge un valor a buscar en el menu desplegable y se escribe lo que se uquiere buscar\n",
    " \n",
    " ![Buscar Permiso](Images/Permiso/buscarPermiso2.png)\n",
    "\n",
    "  ![Buscar Permiso](Images/Permiso/buscarPermiso3.png)\n",
    "\n",
    "  Y al darle al botón de la lupa, si se ha encontrado algo se aplicara el filtro\n",
    "\n",
    "  ![Buscar Permiso](Images/Permiso/buscarPermiso4.png)\n",
    "\n",
    "  Si intentamos buscar una cosa que no existe en la base de datos no saldrá el siguiente mensaje.\n",
    "\n",
    "  ![Buscar Permiso](Images/Permiso/buscarPermiso5.png)"
   ]
  },
  {
   "cell_type": "markdown",
   "id": "39016f87",
   "metadata": {},
   "source": [
    "\n",
    "\n",
    "\n",
    "\n",
    "\n",
    "\n"
   ]
  }
 ],
 "metadata": {
  "kernelspec": {
   "display_name": "Python 3 (ipykernel)",
   "language": "python",
   "name": "python3"
  },
  "language_info": {
   "codemirror_mode": {
    "name": "ipython",
    "version": 3
   },
   "file_extension": ".py",
   "mimetype": "text/x-python",
   "name": "python",
   "nbconvert_exporter": "python",
   "pygments_lexer": "ipython3",
   "version": "3.10.7"
  }
 },
 "nbformat": 4,
 "nbformat_minor": 5
}
