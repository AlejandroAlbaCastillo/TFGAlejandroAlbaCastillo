{
 "cells": [
  {
   "cell_type": "markdown",
   "id": "9ce37973-c9c6-46a7-86d7-2174c7f7a9bd",
   "metadata": {},
   "source": [
    "# Empleados"
   ]
  },
  {
   "attachments": {},
   "cell_type": "markdown",
   "id": "fe737b4c-7c33-416b-879c-ba25fc19fb9a",
   "metadata": {},
   "source": [
    "En esta pestaña se mostraran todas los empleados que existen actualmente"
   ]
  },
  {
   "cell_type": "markdown",
   "id": "5d6e4391-8487-494e-bb4a-0f5c689c5bd8",
   "metadata": {},
   "source": [
    "## Insertar un Empleado\n",
    "Para insertar un Empleado tendremos que rellenar todos los campos posibles en el formulario de la parte superior.\n",
    "\n",
    "![Formulario Empleado](Images/Empleado/formularioEmpleado.png)\n",
    "\n",
    "Rellenamos los campos.\n",
    "\n",
    "![Formulario Empleado Rellenado](Images/Empleado/formularioEmpleadoRelleno.png)\n",
    "\n",
    "Y si los campos estan bien escritos al darle al botón insertar se nos habrá insertado en la base de datos el nuevo Empleado.\n",
    "\n",
    "![Empleado insertado](Images/Empleado/empleadoAnadido.png)\n",
    "\n",
    "Podemos ver de que nos sale un mensaje retroalimentario en la parte inferior de la ventana."
   ]
  },
  {
   "attachments": {},
   "cell_type": "markdown",
   "id": "6b249f8f-a3c6-412a-9492-9bb07c012451",
   "metadata": {},
   "source": [
    "## Actualizar Empleado\n",
    "Para actualizar el Empleado tendremos que cargar el Empleado en el formulario de inserción.\n",
    "\n",
    "Para ello se puede cargar de dos maneras:\n",
    "\n",
    "- Seleccionando una Empleado de la tabla y dandole al botón cargar.\n",
    "\n",
    "![Cargar Empleado v1](Images/Empleado/empleadoCargadov1.png)   \n",
    "\n",
    "- O dandole doble click al elemento de la tabla.\n",
    "\n",
    "Ahora solo tendremos que modificar los cambios que veamos convenientes y darle al boton actualizar.\n",
    "\n",
    "Por ejemplo cambiaremos el sueldo de 1600 a 1900.\n",
    "\n",
    "Al darle al botón de actualizar, tendremos que confirmar la acción.\n",
    "\n",
    "![Confirmar Empleado v1](Images/Empleado/confirmarEmpleado.png) \n",
    "\n",
    "Al confirmar se habrá actualizado\n",
    "\n",
    "![Empleado actualizada](Images/Empleado/empleadoActualizado.png) \n"
   ]
  },
  {
   "cell_type": "markdown",
   "id": "5150e856-aace-429f-a39e-ff9c49f9c442",
   "metadata": {},
   "source": [
    "## Eliminar Empleado\n",
    "\n",
    "Para eliminar un Empleado se hará de 2 formas:\n",
    "\n",
    "- Seleccionando al Empleado de la tabla y dandole al botón de eliminar.\n",
    "\n",
    "  ![Borrar Empleado v1](Images/Empleado/borrarEmpleadov1.png)\n",
    "\n",
    "- Dándole click derecho a la Empleado que se quiera borrar\n",
    "\n",
    "   ![Borrar Empleado v2](Images/Empleado/borrarEmpleadov2.png)\n",
    "\n",
    "\n",
    "Al darle al darle a Eliminar, tendremos que confirmar la acción.\n",
    "\n",
    "![Confirmar Empleado v1](Images/Empleado/confirmarEmpleado.png) \n",
    "\n",
    "Al confirmar se habrá eliminado, lo sabremos por que se habrá quitado de la tabla y también aparecerá un mensaje abajo.\n",
    "\n",
    "![Empleado eliminado](Images/Empleado/empleadoEliminado.png) \n"
   ]
  },
  {
   "cell_type": "markdown",
   "id": "eb46190a-1109-410f-844b-f0a8330a0727",
   "metadata": {},
   "source": [
    "## Buscar un Empleado\n",
    "Para buscar un Empleado tendremos que dirigirnos a la parte superior derecha de la tabla:\n",
    " ![Buscar Empleado](Images/Empleado/buscarEmpleado.png)\n",
    "\n",
    " Para buscar por el valor que se quiera, se escoge un valor a buscar en el menu desplegable y se escribe lo que se quiere buscar\n",
    " \n",
    " ![Buscar Empleado](Images/Empleado/buscarEmpleado2.png)\n",
    "\n",
    "  ![Buscar Empleado](Images/Empleado/buscarEmpleado3.png)\n",
    "\n",
    "  Y al darle al botón de la lupa, si se ha encontrado algo se aplicara el filtro\n",
    "\n",
    "  ![Buscar Empleado](Images/Empleado/buscarEmpleado4.png)\n",
    "\n",
    "  Si intentamos buscar una cosa que no existe en la base de datos no saldrá el siguiente mensaje.\n",
    "\n",
    "  ![Buscar Empleado](Images/Empleado/buscarEmpleado5.png)"
   ]
  },
  {
   "cell_type": "markdown",
   "id": "573a317d",
   "metadata": {},
   "source": []
  }
 ],
 "metadata": {
  "kernelspec": {
   "display_name": "Python 3 (ipykernel)",
   "language": "python",
   "name": "python3"
  },
  "language_info": {
   "codemirror_mode": {
    "name": "ipython",
    "version": 3
   },
   "file_extension": ".py",
   "mimetype": "text/x-python",
   "name": "python",
   "nbconvert_exporter": "python",
   "pygments_lexer": "ipython3",
   "version": "3.10.7"
  }
 },
 "nbformat": 4,
 "nbformat_minor": 5
}
