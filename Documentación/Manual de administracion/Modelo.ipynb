{
 "cells": [
  {
   "cell_type": "markdown",
   "metadata": {},
   "source": [
    "# Modelo"
   ]
  },
  {
   "cell_type": "markdown",
   "metadata": {},
   "source": [
    "Aquí se definen las clases con las que va a funcionar la aplicación\n",
    "\n",
    "Todas las clases que hay se van a mostrar directamente en la aplicación menos:\n",
    "- Persona.java ya que de esta clase heredan las clases Usuario.java y Empleado.java"
   ]
  },
  {
   "cell_type": "markdown",
   "metadata": {
    "vscode": {
     "languageId": "plaintext"
    }
   },
   "source": [
    "# Vista\n",
    "Aqui se muestran alojan los fichero fxml que se vana a mostrar cuando se ejecute la aplicación\n",
    "\n",
    "## vistaLogin.fxml\n",
    "![Vista Login](Images/Vista/vistaLogin.png)\n",
    "\n",
    "## vistaAdministrado.fxml\n",
    "\n",
    "![Vista Aplicacion](Images/Vista/vistaAdministrador.png)\n"
   ]
  }
 ],
 "metadata": {
  "language_info": {
   "name": "python"
  }
 },
 "nbformat": 4,
 "nbformat_minor": 2
}
