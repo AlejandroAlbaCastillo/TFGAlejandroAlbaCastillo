{
 "cells": [
  {
   "cell_type": "markdown",
   "metadata": {},
   "source": [
    "# Controlador\n",
    "\n",
    "Aqui se van a hacer todas las operaciones logicas de la aplicación, tambien es donde se cargan los elementos de javafx que son los que se van a mostrar en la vista.\n"
   ]
  },
  {
   "cell_type": "markdown",
   "metadata": {},
   "source": [
    "## controladorLogin.java\n",
    "\n",
    "Aquí se controla el el inicio de sesión\n",
    "\n",
    "Los métodos mas destacados son:\n",
    "\n",
    "### initialize()\n",
    "\n",
    "Aquí se inicializan los componentes en caso de que haga falta.\n",
    "\n",
    "### Evento de btnEntrar()\n",
    "Es el encargado de administrar los otros dos metodos y si está todo correcto nos manda al otro controlador, pasando a la persona como parámetro.\n",
    "\n",
    "\n",
    "### sacarPersona()\n",
    "\n",
    "Devuelve un objeto Persona dado el dni que se inserta en el textfield.\n",
    "\n",
    "### existeUsuario()\n",
    "\n",
    "Comprueba:\n",
    "- Existe el usuario\n",
    "- En caso de que exista de que la contraseña asigana al usuario sea la misma que se especifica\n",
    "\n",
    "\n",
    "\n"
   ]
  },
  {
   "cell_type": "markdown",
   "metadata": {},
   "source": [
    "## controladorAdministrador.java\n",
    "\n",
    "Es el que controla todo en la aplicación.\n",
    "\n",
    "Al tener 10 pestañas tiene repetido 10 veces los mismos métodos.\n",
    "\n",
    "Estos son los más destacables (el \"*\" especifica que esta que se usa para distintos objetos de Modelo).\n",
    "\n",
    "## cargar*()\n",
    "\n",
    "El método se activa por el evento dell botón cargar de cada pestaña, aqui recoge los datos del elemento que está seleccionado y los pone en el formulario de inserción, sirve sobre todo para Actualizar.\n",
    "\n",
    "## sacar*()\n",
    "Devuelve el objeto especificado dada la clave, se usa para rellenar los combobox necesarios.\n",
    "\n",
    "## dameLista*()\n",
    "Devuelve un ObsevableList del objeto especificado\n",
    "\n",
    "Hay metodos que tienen un parámetro llamado permiso, aquí simplemente controla de que si tiene un permiso restringido filtra solo por donde aparezca el DNI del objeto persona que se ha dado como parámetro desde controladorLogin.java\n",
    "\n",
    "Estos métodos se usan para rellenar las tablas\n",
    "\n",
    "## sacarPermiso()\n",
    "\n",
    "Devuelve el permiso dado el usuario y el modulo\n",
    "\n",
    "## setControladorEnlace()\n",
    "Este método es como el initialize, aqui se declaran todos los componentes necesarios, aquí se:\n",
    "- Rellenan las tablas\n",
    "- Rellenan combobox\n",
    "- Se crean los menús contextuales\n",
    "    //Se espceifican los menus contextuales para eliminar y cargar\n",
    "    \n",
    "    contextMenu.setAutoHide(true);\n",
    "        item.setOnAction(event -> {\n",
    "        eliminar();\n",
    "    });\n",
    "    contextMenu.getItems().add(item);\n",
    "    tv.setContextMenu(contextMenu);\n",
    "\n",
    "    tv.setOnMouseClicked(event -> {\n",
    "        if (event.getButton() == MouseButton.PRIMARY && event.getClickCount() == 2) {\n",
    "            cargar();\n",
    "        }\n",
    "    });\n",
    "- Se controla la vista de las pestañas \n",
    "    //Se comprueba de que la persona que ha iniciado tiene el permiso \"R\"  de lectura, si no lo tiene oculta la pestaña\n",
    "\n",
    "    if (!sacarPermiso(1, persona.getRol()).contains(\"R\")) {\n",
    "        tbGeneral.getTabs().remove(tabSucursal);\n",
    "    }\n"
   ]
  },
  {
   "cell_type": "markdown",
   "metadata": {},
   "source": []
  }
 ],
 "metadata": {
  "language_info": {
   "name": "python"
  }
 },
 "nbformat": 4,
 "nbformat_minor": 2
}
