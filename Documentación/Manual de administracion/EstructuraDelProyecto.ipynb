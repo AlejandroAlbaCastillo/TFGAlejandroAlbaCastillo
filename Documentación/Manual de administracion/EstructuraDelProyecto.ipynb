{
 "cells": [
  {
   "cell_type": "markdown",
   "metadata": {},
   "source": [
    "# Estructura del proyecto\n",
    "\n",
    "El proyecto esta desarrollado de acuerdo a: Modelo / Vista / Controlador\n",
    "\n",
    "![Arbol](Images/Arbol.png)"
   ]
  },
  {
   "cell_type": "markdown",
   "metadata": {},
   "source": []
  }
 ],
 "metadata": {
  "language_info": {
   "name": "python"
  }
 },
 "nbformat": 4,
 "nbformat_minor": 2
}
