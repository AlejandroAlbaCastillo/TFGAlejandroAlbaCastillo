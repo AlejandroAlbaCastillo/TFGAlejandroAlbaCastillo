{
 "cells": [
  {
   "cell_type": "markdown",
   "id": "3abb25ab-2d6b-43c2-aa8a-a79c535c4754",
   "metadata": {},
   "source": [
    "# Bases de datos"
   ]
  },
  {
   "cell_type": "markdown",
   "id": "82fcd39c-59f2-46a7-833d-689b115fe9b7",
   "metadata": {},
   "source": [
    "La base de datos está compuesta por 11 tablas, a continuación se podrán ver en el diagrama entidad relación.\n",
    "\n",
    "![Diagrama ER](Images/BBDD/diagramaER.png)"
   ]
  },
  {
   "cell_type": "markdown",
   "id": "963e8fcc-d137-4c1f-b19b-dd66fc05972d",
   "metadata": {},
   "source": [
    "Este es el paso a tabla\n",
    "\n",
    "![Paso a tabla](Images/BBDD/pasoATabla.png)"
   ]
  },
  {
   "cell_type": "markdown",
   "id": "a90afa0f",
   "metadata": {},
   "source": []
  }
 ],
 "metadata": {
  "kernelspec": {
   "display_name": "Python 3 (ipykernel)",
   "language": "python",
   "name": "python3"
  },
  "language_info": {
   "codemirror_mode": {
    "name": "ipython",
    "version": 3
   },
   "file_extension": ".py",
   "mimetype": "text/x-python",
   "name": "python",
   "nbconvert_exporter": "python",
   "pygments_lexer": "ipython3",
   "version": "3.10.7"
  }
 },
 "nbformat": 4,
 "nbformat_minor": 5
}
