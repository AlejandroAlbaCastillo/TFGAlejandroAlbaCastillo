{
 "cells": [
  {
   "cell_type": "markdown",
   "id": "9ce37973-c9c6-46a7-86d7-2174c7f7a9bd",
   "metadata": {},
   "source": [
    "# Sucursales"
   ]
  },
  {
   "attachments": {},
   "cell_type": "markdown",
   "id": "fe737b4c-7c33-416b-879c-ba25fc19fb9a",
   "metadata": {},
   "source": [
    "En esta pestaña se mostraran todas las sucursales que existen actualmente"
   ]
  },
  {
   "attachments": {},
   "cell_type": "markdown",
   "id": "5d6e4391-8487-494e-bb4a-0f5c689c5bd8",
   "metadata": {},
   "source": [
    "## Insertar una sucursal\n",
    "Para insertar una sucursal tendremos que rellenar todos los campos posibles en el formulario de la parte superior.\n",
    "\n",
    "![Formulario Sucursal](Images/Sucursal/formularioSucursal.png)\n",
    "\n",
    "Rellenamos los campos menos el de ID Sucursal.\n",
    "\n",
    "![Formulario Sucursal Rellenado](Images/Sucursal/formularioSucursalRelleno.png)\n",
    "\n",
    "Y si los campos estan bien escritos al darle al botón insertar se nos habrá insertado en la base de datos la nueva sucursal.\n",
    "\n",
    "![Sucursal insertada](Images/Sucursal/sucursalAnadida.png)\n",
    "\n",
    "Podemos ver de que nos sale un mensaje retroalimentario en la parte inferior de la ventana."
   ]
  },
  {
   "attachments": {},
   "cell_type": "markdown",
   "id": "6b249f8f-a3c6-412a-9492-9bb07c012451",
   "metadata": {},
   "source": [
    "## Actualizar sucursal\n",
    "Para actualizar la sucursal tendremos que cargar la sucursal en el formulario de inserción.\n",
    "\n",
    "Para ello se puede cargar de dos maneras:\n",
    "\n",
    "- Seleccionando una sucursal de la tabla y dandole al botón cargar.\n",
    "\n",
    "![Cargar Sucursal v1](Images/Sucursal/sucursalCargadav1.png)   \n",
    "\n",
    "- O dandole doble click al elemento de la tabla.\n",
    "\n",
    "Ahora solo tendremos que modificar los cambios que veamos convenientes y darle al boton actualizar.\n",
    "\n",
    "Por ejemplo cambiaremos la ciudad de Logroño a Bilbao.\n",
    "\n",
    "Al darle al botón de actualizar, tendremos que confirmar la acción.\n",
    "\n",
    "![Confirmar Sucursal v1](Images/Sucursal/confirmarSucursal.png) \n",
    "\n",
    "Al confirmar se habrá actualizado\n",
    "\n",
    "![Sucursal actualizada](Images/Sucursal/sucursalActualizada.png) \n"
   ]
  },
  {
   "cell_type": "markdown",
   "id": "5150e856-aace-429f-a39e-ff9c49f9c442",
   "metadata": {},
   "source": [
    "## Eliminar Sucursal\n",
    "\n",
    "Para eliminar una sucursal se hará de 2 formas:\n",
    "\n",
    "- Seleccionando la sucursal de la tabla y dandole al botón de eliminar.\n",
    "\n",
    "  ![Borrar Sucursal v1](Images/Sucursal/borrarSucursalv1.png)\n",
    "\n",
    "- Dándole click derecho a la sucursal que se quiera borrar\n",
    "\n",
    "   ![Borrar Sucursal v2](Images/Sucursal/borrarSucursalv2.png)\n",
    "\n",
    "\n",
    "Al darle al darle a Eliminar, tendremos que confirmar la acción.\n",
    "\n",
    "![Confirmar Sucursal v1](Images/Sucursal/confirmarSucursal.png) \n",
    "\n",
    "Al confirmar se habrá eliminado, lo sabremos por que se habrá quitado de la tabla y también aparecerá un mensaje abajo.\n",
    "\n",
    "![Sucursal eliminadoa](Images/Sucursal/sucursalEliminada.png) \n"
   ]
  },
  {
   "cell_type": "markdown",
   "id": "756249be-6ed4-4353-aaeb-a48025e0b733",
   "metadata": {},
   "source": [
    "## Buscar una sucursal\n",
    "Para buscar una sucursal tendremos que dirigirnos a la parte superior derecha de la tabla:\n",
    " ![Buscar sucursal](Imagenes)"
   ]
  }
 ],
 "metadata": {
  "kernelspec": {
   "display_name": "Python 3 (ipykernel)",
   "language": "python",
   "name": "python3"
  },
  "language_info": {
   "codemirror_mode": {
    "name": "ipython",
    "version": 3
   },
   "file_extension": ".py",
   "mimetype": "text/x-python",
   "name": "python",
   "nbconvert_exporter": "python",
   "pygments_lexer": "ipython3",
   "version": "3.10.7"
  }
 },
 "nbformat": 4,
 "nbformat_minor": 5
}
